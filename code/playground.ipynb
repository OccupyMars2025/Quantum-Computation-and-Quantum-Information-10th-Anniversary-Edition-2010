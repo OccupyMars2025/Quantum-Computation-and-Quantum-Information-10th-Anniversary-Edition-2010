{
 "cells": [
  {
   "cell_type": "code",
   "execution_count": 2,
   "id": "5eb9dc70-d2fd-4bde-b894-4a9ff00d2b75",
   "metadata": {},
   "outputs": [
    {
     "name": "stdout",
     "output_type": "stream",
     "text": [
      "Collecting qiskit\n",
      "  Downloading qiskit-1.1.0-cp38-abi3-manylinux_2_17_x86_64.manylinux2014_x86_64.whl.metadata (12 kB)\n",
      "Collecting rustworkx>=0.14.0 (from qiskit)\n",
      "  Downloading rustworkx-0.14.2-cp311-cp311-manylinux_2_17_x86_64.manylinux2014_x86_64.whl.metadata (10.0 kB)\n",
      "Requirement already satisfied: numpy<3,>=1.17 in /home/occupymars2025/anaconda3/lib/python3.11/site-packages (from qiskit) (1.26.4)\n",
      "Requirement already satisfied: scipy>=1.5 in /home/occupymars2025/anaconda3/lib/python3.11/site-packages (from qiskit) (1.11.4)\n",
      "Requirement already satisfied: sympy>=1.3 in /home/occupymars2025/anaconda3/lib/python3.11/site-packages (from qiskit) (1.12)\n",
      "Requirement already satisfied: dill>=0.3 in /home/occupymars2025/anaconda3/lib/python3.11/site-packages (from qiskit) (0.3.7)\n",
      "Requirement already satisfied: python-dateutil>=2.8.0 in /home/occupymars2025/anaconda3/lib/python3.11/site-packages (from qiskit) (2.8.2)\n",
      "Collecting stevedore>=3.0.0 (from qiskit)\n",
      "  Downloading stevedore-5.2.0-py3-none-any.whl.metadata (2.3 kB)\n",
      "Requirement already satisfied: typing-extensions in /home/occupymars2025/anaconda3/lib/python3.11/site-packages (from qiskit) (4.9.0)\n",
      "Collecting symengine>=0.11 (from qiskit)\n",
      "  Downloading symengine-0.11.0-cp311-cp311-manylinux_2_12_x86_64.manylinux2010_x86_64.whl.metadata (1.2 kB)\n",
      "Requirement already satisfied: six>=1.5 in /home/occupymars2025/anaconda3/lib/python3.11/site-packages (from python-dateutil>=2.8.0->qiskit) (1.16.0)\n",
      "Collecting pbr!=2.1.0,>=2.0.0 (from stevedore>=3.0.0->qiskit)\n",
      "  Downloading pbr-6.0.0-py2.py3-none-any.whl.metadata (1.3 kB)\n",
      "Requirement already satisfied: mpmath>=0.19 in /home/occupymars2025/anaconda3/lib/python3.11/site-packages (from sympy>=1.3->qiskit) (1.3.0)\n",
      "Downloading qiskit-1.1.0-cp38-abi3-manylinux_2_17_x86_64.manylinux2014_x86_64.whl (4.3 MB)\n",
      "\u001b[2K   \u001b[38;2;114;156;31m━━━━━━━━━━━━━━━━━━━━━━━━━━━━━━━━━━━━━━━━\u001b[0m \u001b[32m4.3/4.3 MB\u001b[0m \u001b[31m2.5 MB/s\u001b[0m eta \u001b[36m0:00:00\u001b[0mm eta \u001b[36m0:00:01\u001b[0m[36m0:00:01\u001b[0m\n",
      "\u001b[?25hDownloading rustworkx-0.14.2-cp311-cp311-manylinux_2_17_x86_64.manylinux2014_x86_64.whl (2.1 MB)\n",
      "\u001b[2K   \u001b[38;2;114;156;31m━━━━━━━━━━━━━━━━━━━━━━━━━━━━━━━━━━━━━━━━\u001b[0m \u001b[32m2.1/2.1 MB\u001b[0m \u001b[31m2.2 MB/s\u001b[0m eta \u001b[36m0:00:00\u001b[0m MB/s\u001b[0m eta \u001b[36m0:00:01\u001b[0m:01\u001b[0m\n",
      "\u001b[?25hDownloading stevedore-5.2.0-py3-none-any.whl (49 kB)\n",
      "\u001b[2K   \u001b[38;2;114;156;31m━━━━━━━━━━━━━━━━━━━━━━━━━━━━━━━━━━━━━━━━\u001b[0m \u001b[32m49.7/49.7 kB\u001b[0m \u001b[31m430.8 kB/s\u001b[0m eta \u001b[36m0:00:00\u001b[0m1m1.0 MB/s\u001b[0m eta \u001b[36m0:00:01\u001b[0m\n",
      "\u001b[?25hDownloading symengine-0.11.0-cp311-cp311-manylinux_2_12_x86_64.manylinux2010_x86_64.whl (39.4 MB)\n",
      "\u001b[2K   \u001b[38;2;114;156;31m━━━━━━━━━━━━━━━━━━━━━━━━━━━━━━━━━━━━━━━━\u001b[0m \u001b[32m39.4/39.4 MB\u001b[0m \u001b[31m947.8 kB/s\u001b[0m eta \u001b[36m0:00:00\u001b[0mm eta \u001b[36m0:00:01\u001b[0m6m0:00:01\u001b[0m\n",
      "\u001b[?25hDownloading pbr-6.0.0-py2.py3-none-any.whl (107 kB)\n",
      "\u001b[2K   \u001b[38;2;114;156;31m━━━━━━━━━━━━━━━━━━━━━━━━━━━━━━━━━━━━━━━\u001b[0m \u001b[32m107.5/107.5 kB\u001b[0m \u001b[31m463.6 kB/s\u001b[0m eta \u001b[36m0:00:00\u001b[0m kB/s\u001b[0m eta \u001b[36m0:00:01\u001b[0m\n",
      "\u001b[?25hInstalling collected packages: symengine, rustworkx, pbr, stevedore, qiskit\n",
      "Successfully installed pbr-6.0.0 qiskit-1.1.0 rustworkx-0.14.2 stevedore-5.2.0 symengine-0.11.0\n"
     ]
    },
    {
     "ename": "ImportError",
     "evalue": "cannot import name 'Aer' from 'qiskit' (/home/occupymars2025/anaconda3/lib/python3.11/site-packages/qiskit/__init__.py)",
     "output_type": "error",
     "traceback": [
      "\u001b[0;31m---------------------------------------------------------------------------\u001b[0m",
      "\u001b[0;31mImportError\u001b[0m                               Traceback (most recent call last)",
      "Cell \u001b[0;32mIn[2], line 5\u001b[0m\n\u001b[1;32m      2\u001b[0m get_ipython()\u001b[38;5;241m.\u001b[39msystem(\u001b[38;5;124m'\u001b[39m\u001b[38;5;124mpip install qiskit\u001b[39m\u001b[38;5;124m'\u001b[39m)\n\u001b[1;32m      4\u001b[0m \u001b[38;5;66;03m# Import necessary libraries\u001b[39;00m\n\u001b[0;32m----> 5\u001b[0m \u001b[38;5;28;01mfrom\u001b[39;00m \u001b[38;5;21;01mqiskit\u001b[39;00m \u001b[38;5;28;01mimport\u001b[39;00m QuantumCircuit, Aer, execute\n\u001b[1;32m      7\u001b[0m \u001b[38;5;66;03m# Create a quantum circuit with 2 qubits and 1 classical bit\u001b[39;00m\n\u001b[1;32m      8\u001b[0m qc \u001b[38;5;241m=\u001b[39m QuantumCircuit(\u001b[38;5;241m2\u001b[39m, \u001b[38;5;241m1\u001b[39m)\n",
      "\u001b[0;31mImportError\u001b[0m: cannot import name 'Aer' from 'qiskit' (/home/occupymars2025/anaconda3/lib/python3.11/site-packages/qiskit/__init__.py)"
     ]
    }
   ],
   "source": [
    "\n",
    "# Install Qiskit\n",
    "!pip install qiskit\n",
    "\n",
    "# Import necessary libraries\n",
    "from qiskit import QuantumCircuit, Aer, execute\n",
    "\n",
    "# Create a quantum circuit with 2 qubits and 1 classical bit\n",
    "qc = QuantumCircuit(2, 1)\n",
    "\n",
    "# Apply H-gate to both qubits\n",
    "qc.h([0, 1])\n",
    "\n",
    "# Apply CX (CNOT) gate\n",
    "qc.cx(0, 1)\n",
    "\n",
    "# Apply H-gate to the first qubit\n",
    "qc.h(0)\n",
    "\n",
    "# Measure the first qubit\n",
    "qc.measure(0, 0)\n",
    "\n",
    "# Execute the circuit on a simulator\n",
    "simulator = Aer.get_backend('qasm_simulator')\n",
    "result = execute(qc, simulator).result()\n",
    "\n",
    "# Get the result counts\n",
    "counts = result.get_counts(qc)\n",
    "print(\"Result:\", counts)\n",
    "\n",
    "# Draw the circuit\n",
    "qc.draw(output='mpl')"
   ]
  },
  {
   "cell_type": "code",
   "execution_count": 3,
   "id": "eab83f05-33d5-4857-b663-0cda5d675919",
   "metadata": {},
   "outputs": [
    {
     "name": "stdout",
     "output_type": "stream",
     "text": [
      "Requirement already satisfied: qiskit in /home/occupymars2025/anaconda3/lib/python3.11/site-packages (1.1.0)\n",
      "Requirement already satisfied: rustworkx>=0.14.0 in /home/occupymars2025/anaconda3/lib/python3.11/site-packages (from qiskit) (0.14.2)\n",
      "Requirement already satisfied: numpy<3,>=1.17 in /home/occupymars2025/anaconda3/lib/python3.11/site-packages (from qiskit) (1.26.4)\n",
      "Requirement already satisfied: scipy>=1.5 in /home/occupymars2025/anaconda3/lib/python3.11/site-packages (from qiskit) (1.11.4)\n",
      "Requirement already satisfied: sympy>=1.3 in /home/occupymars2025/anaconda3/lib/python3.11/site-packages (from qiskit) (1.12)\n",
      "Requirement already satisfied: dill>=0.3 in /home/occupymars2025/anaconda3/lib/python3.11/site-packages (from qiskit) (0.3.7)\n",
      "Requirement already satisfied: python-dateutil>=2.8.0 in /home/occupymars2025/anaconda3/lib/python3.11/site-packages (from qiskit) (2.8.2)\n",
      "Requirement already satisfied: stevedore>=3.0.0 in /home/occupymars2025/anaconda3/lib/python3.11/site-packages (from qiskit) (5.2.0)\n",
      "Requirement already satisfied: typing-extensions in /home/occupymars2025/anaconda3/lib/python3.11/site-packages (from qiskit) (4.9.0)\n",
      "Requirement already satisfied: symengine>=0.11 in /home/occupymars2025/anaconda3/lib/python3.11/site-packages (from qiskit) (0.11.0)\n",
      "Requirement already satisfied: six>=1.5 in /home/occupymars2025/anaconda3/lib/python3.11/site-packages (from python-dateutil>=2.8.0->qiskit) (1.16.0)\n",
      "Requirement already satisfied: pbr!=2.1.0,>=2.0.0 in /home/occupymars2025/anaconda3/lib/python3.11/site-packages (from stevedore>=3.0.0->qiskit) (6.0.0)\n",
      "Requirement already satisfied: mpmath>=0.19 in /home/occupymars2025/anaconda3/lib/python3.11/site-packages (from sympy>=1.3->qiskit) (1.3.0)\n"
     ]
    }
   ],
   "source": [
    "\n",
    "!pip install qiskit"
   ]
  },
  {
   "cell_type": "code",
   "execution_count": 4,
   "id": "7965a03b-a1b4-4948-b824-35cd0ae81f2c",
   "metadata": {},
   "outputs": [
    {
     "ename": "ImportError",
     "evalue": "cannot import name 'execute' from 'qiskit' (/home/occupymars2025/anaconda3/lib/python3.11/site-packages/qiskit/__init__.py)",
     "output_type": "error",
     "traceback": [
      "\u001b[0;31m---------------------------------------------------------------------------\u001b[0m",
      "\u001b[0;31mImportError\u001b[0m                               Traceback (most recent call last)",
      "Cell \u001b[0;32mIn[4], line 1\u001b[0m\n\u001b[0;32m----> 1\u001b[0m \u001b[38;5;28;01mfrom\u001b[39;00m \u001b[38;5;21;01mqiskit\u001b[39;00m \u001b[38;5;28;01mimport\u001b[39;00m QuantumCircuit, execute, Aer\n\u001b[1;32m      2\u001b[0m \u001b[38;5;28;01mfrom\u001b[39;00m \u001b[38;5;21;01mqiskit\u001b[39;00m\u001b[38;5;21;01m.\u001b[39;00m\u001b[38;5;21;01mvisualization\u001b[39;00m \u001b[38;5;28;01mimport\u001b[39;00m plot_bloch_multivector\n\u001b[1;32m      3\u001b[0m \u001b[38;5;28;01mimport\u001b[39;00m \u001b[38;5;21;01mmatplotlib\u001b[39;00m\u001b[38;5;21;01m.\u001b[39;00m\u001b[38;5;21;01mpyplot\u001b[39;00m \u001b[38;5;28;01mas\u001b[39;00m \u001b[38;5;21;01mplt\u001b[39;00m\n",
      "\u001b[0;31mImportError\u001b[0m: cannot import name 'execute' from 'qiskit' (/home/occupymars2025/anaconda3/lib/python3.11/site-packages/qiskit/__init__.py)"
     ]
    }
   ],
   "source": [
    "\n",
    "from qiskit import QuantumCircuit, execute, Aer\n",
    "from qiskit.visualization import plot_bloch_multivector\n",
    "import matplotlib.pyplot as plt"
   ]
  },
  {
   "cell_type": "code",
   "execution_count": 5,
   "id": "fc70e923-56c9-4ddc-a7ae-3cf0aee3d714",
   "metadata": {},
   "outputs": [
    {
     "data": {
      "text/plain": [
       "<qiskit.circuit.instructionset.InstructionSet at 0x7dc5b0538730>"
      ]
     },
     "execution_count": 5,
     "metadata": {},
     "output_type": "execute_result"
    }
   ],
   "source": [
    "import numpy as np\n",
    "from qiskit import QuantumCircuit\n",
    "\n",
    "# 1. A quantum circuit for preparing the quantum state |000> + i |111>\n",
    "qc_example = QuantumCircuit(3)\n",
    "qc_example.h(0)          # generate superpostion\n",
    "qc_example.p(np.pi/2,0)  # add quantum phase\n",
    "qc_example.cx(0,1)       # 0th-qubit-Controlled-NOT gate on 1st qubit\n",
    "qc_example.cx(0,2)       # 0th-qubit-Controlled-NOT gate on 2nd qubit"
   ]
  },
  {
   "cell_type": "code",
   "execution_count": 6,
   "id": "33b0aabd-e63f-4dcc-835c-14f9eab08c40",
   "metadata": {},
   "outputs": [
    {
     "name": "stdout",
     "output_type": "stream",
     "text": [
      " > Quasi probability distribution: [{0: 0.507, 7: 0.493}]\n"
     ]
    }
   ],
   "source": [
    "# 2. Add the classical output in the form of measurement of all qubits\n",
    "qc_measured = qc_example.measure_all(inplace=False)\n",
    "\n",
    "# 3. Execute using the Sampler primitive\n",
    "from qiskit.primitives.sampler import Sampler\n",
    "sampler = Sampler()\n",
    "job = sampler.run(qc_measured, shots=1000)\n",
    "result = job.result()\n",
    "print(f\" > Quasi probability distribution: {result.quasi_dists}\")"
   ]
  },
  {
   "cell_type": "code",
   "execution_count": 7,
   "id": "95e978db-633b-464f-a8c5-51cb7f46eb3d",
   "metadata": {},
   "outputs": [
    {
     "name": "stdout",
     "output_type": "stream",
     "text": [
      " > Expectation values: [4.]\n"
     ]
    }
   ],
   "source": [
    "# 2. Define the observable to be measured \n",
    "from qiskit.quantum_info import SparsePauliOp\n",
    "operator = SparsePauliOp.from_list([(\"XXY\", 1), (\"XYX\", 1), (\"YXX\", 1), (\"YYY\", -1)])\n",
    "\n",
    "# 3. Execute using the Estimator primitive\n",
    "from qiskit.primitives import Estimator\n",
    "estimator = Estimator()\n",
    "job = estimator.run(qc_example, operator, shots=1000)\n",
    "result = job.result()\n",
    "print(f\" > Expectation values: {result.values}\")"
   ]
  },
  {
   "cell_type": "code",
   "execution_count": 8,
   "id": "54a22edf-7397-46cf-b8ba-1bafe7d33412",
   "metadata": {},
   "outputs": [],
   "source": [
    "from qiskit import transpile\n",
    "qc_transpiled = transpile(qc_example, basis_gates = ['cz', 'sx', 'rz'], coupling_map =[[0, 1], [1, 2]] , optimization_level=3)"
   ]
  },
  {
   "cell_type": "code",
   "execution_count": null,
   "id": "658d1f7d-e438-4bcf-b5d7-26c682eeb320",
   "metadata": {},
   "outputs": [],
   "source": []
  }
 ],
 "metadata": {
  "kernelspec": {
   "display_name": "Python 3 (ipykernel)",
   "language": "python",
   "name": "python3"
  },
  "language_info": {
   "codemirror_mode": {
    "name": "ipython",
    "version": 3
   },
   "file_extension": ".py",
   "mimetype": "text/x-python",
   "name": "python",
   "nbconvert_exporter": "python",
   "pygments_lexer": "ipython3",
   "version": "3.11.7"
  }
 },
 "nbformat": 4,
 "nbformat_minor": 5
}
